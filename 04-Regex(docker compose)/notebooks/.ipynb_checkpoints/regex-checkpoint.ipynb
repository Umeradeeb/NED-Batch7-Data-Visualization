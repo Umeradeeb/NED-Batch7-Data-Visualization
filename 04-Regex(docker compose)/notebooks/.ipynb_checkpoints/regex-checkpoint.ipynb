{
 "cells": [
  {
   "cell_type": "raw",
   "id": "36d3959d-7370-4d38-874f-e137c096a4e9",
   "metadata": {},
   "source": [
    "Dated: 9 Aug 2024\n",
    "* https://docs.python.org/3/library/re.html\n",
    "* https://www.dataquest.io/blog/regex-cheatsheet/"
   ]
  },
  {
   "cell_type": "code",
   "execution_count": 1,
   "id": "f70b1bc0-9bb1-465d-ab4c-f240649470e7",
   "metadata": {},
   "outputs": [],
   "source": [
    "import re"
   ]
  },
  {
   "cell_type": "code",
   "execution_count": 2,
   "id": "97b4c9fb-9392-45da-ae6e-e1e8ba540c8d",
   "metadata": {},
   "outputs": [
    {
     "data": {
      "text/plain": [
       "'pakistan zinda bad\\n123 456 7892\\numeradeeb94@gmail.com\\npanacloud\\nned zinda bad\\n'"
      ]
     },
     "metadata": {},
     "output_type": "display_data"
    },
    {
     "name": "stdout",
     "output_type": "stream",
     "text": [
      "pakistan zinda bad\n",
      "123 456 7892\n",
      "umeradeeb94@gmail.com\n",
      "panacloud\n",
      "ned zinda bad\n",
      "\n"
     ]
    }
   ],
   "source": [
    "text = \"\"\"pakistan zinda bad\n",
    "123 456 7892\n",
    "umeradeeb94@gmail.com\n",
    "panacloud\n",
    "ned zinda bad\n",
    "\"\"\"\n",
    "\n",
    "#\\n means line change\n",
    "#\\t means tab\n",
    "\n",
    "# data = re.findall('p',text, re.IGNORECASE)\n",
    "# data\n",
    "\n",
    "display(text)\n",
    "print(text)"
   ]
  },
  {
   "cell_type": "code",
   "execution_count": 3,
   "id": "6cc3403f-4b5e-4663-a4d5-a043b6d9a047",
   "metadata": {},
   "outputs": [
    {
     "name": "stdout",
     "output_type": "stream",
     "text": [
      "['p', 'a', 'k', 'i', 's', 't', 'a', 'n', ' ', 'z', 'i', 'n', 'd', 'a', ' ', 'b', 'a', 'd', '1', '2', '3', ' ', '4', '5', '6', ' ', '7', '8', '9', '2', '\\t', 'u', 'm', 'e', 'r', 'a', 'd', 'e', 'e', 'b', '9', '4', '@', 'g', 'm', 'a', 'i', 'l', '.', 'c', 'o', 'm', 'p', 'a', 'n', 'a', 'c', 'l', 'o', 'u', 'd', 'n', 'e', 'd', ' ', 'z', 'i', 'n', 'd', 'a', ' ', 'b', 'a', 'd']\n"
     ]
    }
   ],
   "source": [
    "text = \"\"\"pakistan zinda bad\n",
    "123 456 7892\n",
    "\\tumeradeeb94@gmail.com\n",
    "panacloud\n",
    "ned zinda bad\n",
    "\"\"\"\n",
    "\n",
    "data = re.findall('.',text)          #'.' means anything except \\n\n",
    "print(data)"
   ]
  },
  {
   "cell_type": "code",
   "execution_count": 4,
   "id": "bccbf82d-e9cd-417a-90ff-ca9456b65387",
   "metadata": {},
   "outputs": [
    {
     "name": "stdout",
     "output_type": "stream",
     "text": [
      "['pa', 'pa', 'pa']\n"
     ]
    }
   ],
   "source": [
    "text = \"\"\"pakistan zinda bad\n",
    "123 456 7892\n",
    "\\tumeradeeb94@gmail.com\n",
    "panacloud\n",
    "ned zinda bad\n",
    "abad pakistan my country\n",
    "xyz abc egh\n",
    "\"\"\"\n",
    "\n",
    "data = re.findall('pa',text)          \n",
    "print(data)"
   ]
  },
  {
   "cell_type": "markdown",
   "id": "a0b22786-bd88-4a5e-82ae-54429e5d7ff0",
   "metadata": {},
   "source": [
    "# *, +\n",
    "# + = 1 or many\\n\n",
    "# * = 0 or many"
   ]
  },
  {
   "cell_type": "code",
   "execution_count": 5,
   "id": "f0627596-34d1-4bfd-a722-7675be7c6ec6",
   "metadata": {},
   "outputs": [
    {
     "name": "stdout",
     "output_type": "stream",
     "text": [
      "['pakistan zin', 'polan', 'pan', 'pakistan my coun', 'pn']\n"
     ]
    }
   ],
   "source": [
    "text = \"\"\"pakistan zinda bad\n",
    "123 456 7892\n",
    "polan hello world\n",
    "\\tumeradeeb94@gmail.com\n",
    "panacloud\n",
    "ned zinda bad\n",
    "abad pakistan my country\n",
    "hello world pa\n",
    "xyz abc egh\n",
    "pnra\n",
    "\"\"\"\n",
    "data = re.findall('p.*n',text)          \n",
    "print(data)\n",
    "\n",
    "# data = re.findall('z...a',text)          \n",
    "# print(data)\n",
    "\n",
    "# data = re.findall('p......n',text)          \n",
    "# print(data)\n",
    "\n",
    "# data = re.findall('c.....y',text)          \n",
    "# print(data)"
   ]
  },
  {
   "cell_type": "code",
   "execution_count": 6,
   "id": "66c07357-02bf-41d2-ba6c-338cda1c17ab",
   "metadata": {},
   "outputs": [
    {
     "name": "stdout",
     "output_type": "stream",
     "text": [
      "['pakistan zin', 'polan', 'pan', 'pakistan my coun']\n"
     ]
    }
   ],
   "source": [
    "text = \"\"\"pakistan zinda bad\n",
    "123 456 7892\n",
    "polan hello world\n",
    "\\tumeradeeb94@gmail.com\n",
    "panacloud\n",
    "ned zinda bad\n",
    "abad pakistan my country\n",
    "hello world pa\n",
    "xyz abc egh\n",
    "pnra\n",
    "\"\"\"\n",
    "data = re.findall('p.+n',text)          \n",
    "print(data)"
   ]
  },
  {
   "cell_type": "markdown",
   "id": "c7e1e8a3-e96b-41fc-8356-42ef736b6d37",
   "metadata": {},
   "source": [
    "# ^ and $\n",
    "* ^ start of line\n",
    "\n",
    "* $ end of line"
   ]
  },
  {
   "cell_type": "code",
   "execution_count": 9,
   "id": "54aa7775-b89d-41f8-91bd-27971e5a8271",
   "metadata": {},
   "outputs": [
    {
     "name": "stdout",
     "output_type": "stream",
     "text": [
      "[]\n"
     ]
    }
   ],
   "source": [
    "text = \"\"\"pakistan zinda bad\n",
    "123 456 7892\n",
    "polan hello world\n",
    "\\tumeradeeb94@gmail.com\n",
    "panacloud\n",
    "ned zinda bad\n",
    "abad pakistan my country\n",
    "hello world pa\n",
    "Pakistan\n",
    "xyz abc egh\n",
    "pnra\n",
    "\"\"\"\n",
    "\n",
    "data = re.findall('^p.*d$',text)\n",
    "print(data)"
   ]
  },
  {
   "cell_type": "code",
   "execution_count": 7,
   "id": "d63dae6c-f8ae-4784-b7af-b1a7c37b0c72",
   "metadata": {},
   "outputs": [
    {
     "name": "stdout",
     "output_type": "stream",
     "text": [
      "['pakistan zinda bad', 'polan hello world', 'panacloud']\n"
     ]
    }
   ],
   "source": [
    "text = \"\"\"pakistan zinda bad\n",
    "123 456 7892\n",
    "polan hello world\n",
    "\\tumeradeeb94@gmail.com\n",
    "panacloud\n",
    "ned zinda bad\n",
    "abad pakistan my country\n",
    "hello world pa\n",
    "Pakistan\n",
    "xyz abc egh\n",
    "pnra\n",
    "\"\"\"\n",
    "\n",
    "data = re.findall('^p.*d$',text, re.MULTILINE)\n",
    "print(data)"
   ]
  },
  {
   "cell_type": "code",
   "execution_count": 10,
   "id": "934bf683-91ea-4960-b36b-36ad08fb55e9",
   "metadata": {},
   "outputs": [
    {
     "name": "stdout",
     "output_type": "stream",
     "text": [
      "['pakistan zinda bad']\n"
     ]
    }
   ],
   "source": [
    "text = \"\"\"pakistan zinda bad\"\"\"\n",
    "data = re.findall('^p.*d$',text)\n",
    "print(data)"
   ]
  },
  {
   "cell_type": "code",
   "execution_count": 11,
   "id": "9059cbfa-8774-4b3d-88f5-c31b613642a2",
   "metadata": {},
   "outputs": [
    {
     "name": "stdout",
     "output_type": "stream",
     "text": [
      "['hello world pa']\n"
     ]
    }
   ],
   "source": [
    "text = \"\"\"pakistan zinda bad\n",
    "123 456 7892\n",
    "polan hello world\n",
    "\\tumeradeeb94@gmail.com\n",
    "panacloud\n",
    "ned zinda bad\n",
    "abad pakistan my country\n",
    "hello world pa\n",
    "Pakistan\n",
    "xyz abc egh\n",
    "pnra\n",
    "\"\"\"\n",
    "\n",
    "data = re.findall('^h.*a$',text, re.MULTILINE)\n",
    "print(data)"
   ]
  },
  {
   "cell_type": "markdown",
   "id": "b132fd73-6d40-4a91-869e-cc03b3c94bf4",
   "metadata": {},
   "source": [
    "# ?\n",
    "# means optional"
   ]
  },
  {
   "cell_type": "code",
   "execution_count": 12,
   "id": "b57c6bc2-2046-4aac-af97-59f52173fe13",
   "metadata": {},
   "outputs": [
    {
     "name": "stdout",
     "output_type": "stream",
     "text": [
      "['pak', 'po', 'pa', 'pak', 'pa', 'pik', 'po', 'pn']\n"
     ]
    }
   ],
   "source": [
    "text = \"\"\"pakistan zinda bad\n",
    "123 456 7892\n",
    "polan hello world\n",
    "\\tumeradeeb94@gmail.com\n",
    "panacloud\n",
    "ned zinda bad\n",
    "abad pakistan my country\n",
    "hello world pa\n",
    "pik\n",
    "pop\n",
    "Pakistan\n",
    "xyz abc egh\n",
    "pnra\n",
    "\"\"\"\n",
    "\n",
    "data = re.findall(\"p.k?\",text)\n",
    "print(data)"
   ]
  },
  {
   "cell_type": "code",
   "execution_count": 14,
   "id": "d0b01a29-acd4-45a3-aa12-a8c49400288b",
   "metadata": {},
   "outputs": [
    {
     "name": "stdout",
     "output_type": "stream",
     "text": [
      "['pakistan zin', 'polan', 'pan', 'pakistan my coun', 'pn']\n",
      "['pakistan', 'polan', 'pan', 'pakistan', 'pn']\n"
     ]
    }
   ],
   "source": [
    "text = \"\"\"pakistan zinda bad\n",
    "123 456 7892\n",
    "polan hello world\n",
    "\\tumeradeeb94@gmail.com\n",
    "panacloud\n",
    "ned zinda bad\n",
    "abad pakistan my country\n",
    "hello world pa\n",
    "pik\n",
    "pop\n",
    "Pakistan\n",
    "xyz abc egh\n",
    "pnra\n",
    "\"\"\"\n",
    "\n",
    "data = re.findall(\"p.*n\",text)\n",
    "print(data)\n",
    "\n",
    "data = re.findall(\"p.*?n\",text)\n",
    "print(data)"
   ]
  },
  {
   "cell_type": "code",
   "execution_count": 16,
   "id": "755c1195-df28-457d-90aa-1ce692b599e9",
   "metadata": {},
   "outputs": [
    {
     "name": "stdout",
     "output_type": "stream",
     "text": [
      "['<h1>This is a Heading</h1>', '<p>This is a paragraph.</p>']\n"
     ]
    }
   ],
   "source": [
    "text = \"\"\"\n",
    "\n",
    " Pakistan\n",
    " \n",
    "<h1>This is a Heading</h1>\n",
    "<p>This is a paragraph.</p>\n",
    "\n",
    "zinda bad\n",
    "\"\"\"\n",
    "\n",
    "pattern = \"<.*>.*</.*>\n",
    "\n",
    "data = re.findall(pattern, text)\n",
    "print(data)"
   ]
  },
  {
   "cell_type": "code",
   "execution_count": 20,
   "id": "a596b59c-b715-4f1b-a095-275c232e5ef1",
   "metadata": {},
   "outputs": [
    {
     "name": "stdout",
     "output_type": "stream",
     "text": [
      "['<h1>This is a Heading</h1>', '<p>This is a paragraph.</p>', '<x>This is a paragraph.<pakistan/p>']\n"
     ]
    }
   ],
   "source": [
    "text = \"\"\"\n",
    "\n",
    " Pakistan\n",
    " \n",
    "<h1>This is a Heading</h1>\n",
    "<p>This is a paragraph.</p>\n",
    "<x>This is a paragraph.<pakistan/p>\n",
    "\n",
    "zinda bad\n",
    "\"\"\"\n",
    "\n",
    "pattern = \"<.*>.*<?/.*>\"\n",
    "\n",
    "data = re.findall(pattern, text)\n",
    "print(data)"
   ]
  },
  {
   "cell_type": "markdown",
   "id": "d04328b4-585f-4b75-847c-30fd61da133c",
   "metadata": {},
   "source": [
    "# {m,n}"
   ]
  },
  {
   "cell_type": "code",
   "execution_count": 28,
   "id": "3ecfbade-1578-48cd-b412-f24810711cce",
   "metadata": {},
   "outputs": [
    {
     "name": "stdout",
     "output_type": "stream",
     "text": [
      "['paaaak', 'pyyyyyk']\n"
     ]
    }
   ],
   "source": [
    "text = \"\"\"pakistan zinda bad\n",
    "123 456 7892\n",
    "polan hello world\n",
    "\\tumeradeeb94@gmail.com\n",
    "panacloud\n",
    "ned zinda bad\n",
    "abad pakistan my country\n",
    "hello world pa\n",
    "pik\n",
    "pop\n",
    "Pakistan\n",
    "paaaak\n",
    "pyyyyyk\n",
    "p222k\n",
    "ppp pppppppppp ppppppppppp\n",
    "xyz abc egh\n",
    "pnra\n",
    "\"\"\"\n",
    "\n",
    "data = re.findall(\"p.{4}k\", text) \n",
    "print(data)"
   ]
  },
  {
   "cell_type": "code",
   "execution_count": 29,
   "id": "6928f9d6-3558-4283-ac4c-61810f533300",
   "metadata": {},
   "outputs": [
    {
     "name": "stdout",
     "output_type": "stream",
     "text": [
      "['paaaak', 'p222k']\n"
     ]
    }
   ],
   "source": [
    "text = \"\"\"pakistan zinda bad\n",
    "123 456 7892\n",
    "polan hello world\n",
    "\\tumeradeeb94@gmail.com\n",
    "panacloud\n",
    "ned zinda bad\n",
    "abad pakistan my country\n",
    "hello world pa\n",
    "pik\n",
    "pop\n",
    "Pakistan\n",
    "paaaak\n",
    "pyyyyyk\n",
    "p222k\n",
    "ppp pppppppppp ppppppppppp\n",
    "xyz abc egh\n",
    "pnra\n",
    "\"\"\"\n",
    "\n",
    "data = re.findall(\"p.{3,4}k\", text) \n",
    "print(data)"
   ]
  },
  {
   "cell_type": "code",
   "execution_count": 30,
   "id": "d380c2a1-f758-46b9-913f-cef270b2c653",
   "metadata": {},
   "outputs": [
    {
     "name": "stdout",
     "output_type": "stream",
     "text": [
      "['pakistan zin', 'polan', 'pakistan']\n"
     ]
    }
   ],
   "source": [
    "text = \"\"\"pakistan zinda bad\n",
    "123 456 7892\n",
    "polan hello world\n",
    "\\tumeradeeb94@gmail.com\n",
    "panacloud\n",
    "ned zinda bad\n",
    "abad pakistan my country\n",
    "hello world pa\n",
    "pik\n",
    "pop\n",
    "Pakistan\n",
    "paaaak\n",
    "pyyyyyk\n",
    "p222k\n",
    "ppp pppppppppp ppppppppppp\n",
    "xyz abc egh\n",
    "pnra\n",
    "\"\"\"\n",
    "\n",
    "data = re.findall(\"p.{2,10}n\", text) \n",
    "print(data)"
   ]
  },
  {
   "cell_type": "code",
   "execution_count": 34,
   "id": "42ceb07f-12bb-4d7c-aba5-a0b7214d44a8",
   "metadata": {},
   "outputs": [
    {
     "name": "stdout",
     "output_type": "stream",
     "text": [
      "['pakistan zin', 'polan h', 'pan', 'abad pakistan my coun', 'pik', 'akistan', 'paaaak', 'pyyyyyk', 'p222k', 'abc egh', 'pn', 'tasman']\n"
     ]
    }
   ],
   "source": [
    "text = \"\"\"pakistan zinda bad\n",
    "123 456 7892\n",
    "polan hello world\n",
    "\\tumeradeeb94@gmail.com\n",
    "panacloud\n",
    "ned zinda bad\n",
    "abad pakistan my country\n",
    "hello world pa\n",
    "pik\n",
    "pop\n",
    "Pakistan\n",
    "paaaak\n",
    "pyyyyyk\n",
    "p222k\n",
    "ppp pppppppppp ppppppppppp\n",
    "xyz abc egh\n",
    "pnra\n",
    "tasman\n",
    "\"\"\"\n",
    "\n",
    "data = re.findall(\"[pta].*[nkh]\", text)     # [] means that first letter is anything from p or t or a \n",
    "print(data)"
   ]
  },
  {
   "cell_type": "code",
   "execution_count": 43,
   "id": "88654e89-8794-45ce-92c0-3c3fb1faf7be",
   "metadata": {},
   "outputs": [
    {
     "data": {
      "text/plain": [
       "['<h1>This is a Heading</h1>',\n",
       " '<h2>This is second Heading</h2>',\n",
       " '<h3>This is third Heading</h3>',\n",
       " '<h4>This is forth Heading</h4>']"
      ]
     },
     "execution_count": 43,
     "metadata": {},
     "output_type": "execute_result"
    }
   ],
   "source": [
    "text = \"\"\"\n",
    "\n",
    " Pakistan\n",
    " \n",
    "<h1>This is a Heading</h1>\n",
    "<h2>This is second Heading</h2>\n",
    "<h3>This is third Heading</h3>\n",
    "<h4>This is forth Heading</h4>\n",
    "<h5>This is fifth Heading</h5>\n",
    "<h6>This is sixth Heading</h6>\n",
    "<p>This is a paragraph.</p>\n",
    "\n",
    "\n",
    "zinda bad\n",
    "\"\"\"\n",
    "\n",
    "data = re.findall(\"<h[1-4]>.*</h[1-4]>\", text)\n",
    "data"
   ]
  },
  {
   "cell_type": "code",
   "execution_count": 45,
   "id": "0c116d52-f0f4-4e21-80b7-814b9b0d3c57",
   "metadata": {},
   "outputs": [
    {
     "data": {
      "text/plain": [
       "['This is a Heading',\n",
       " 'This is second Heading',\n",
       " 'This is third Heading',\n",
       " 'This is forth Heading',\n",
       " 'This is fifth Heading',\n",
       " 'This is sixth Heading']"
      ]
     },
     "execution_count": 45,
     "metadata": {},
     "output_type": "execute_result"
    }
   ],
   "source": [
    "text = \"\"\"\n",
    "\n",
    " Pakistan\n",
    " \n",
    "<h1>This is a Heading</h1>\n",
    "<h2>This is second Heading</h2>\n",
    "<h3>This is third Heading</h3>\n",
    "<h4>This is forth Heading</h4>\n",
    "<h5>This is fifth Heading</h5>\n",
    "<h6>This is sixth Heading</h6>\n",
    "<p>This is a paragraph.</p>\n",
    "\n",
    "\n",
    "zinda bad\n",
    "\"\"\"\n",
    "\n",
    "data = re.findall(\"<h[1-6]>(.*)</h[1-6]>\", text)\n",
    "data"
   ]
  },
  {
   "cell_type": "code",
   "execution_count": 46,
   "id": "57c67ee0-5641-4f59-9da6-540d7a0cae01",
   "metadata": {},
   "outputs": [
    {
     "data": {
      "text/plain": [
       "['42201-1254865-5', '42301-8642358-3', '42501-5486235-1']"
      ]
     },
     "execution_count": 46,
     "metadata": {},
     "output_type": "execute_result"
    }
   ],
   "source": [
    "text = \"\"\"\n",
    "\n",
    " Pakistan\n",
    " \n",
    "<h1>This is a Heading</h1>\n",
    "<h2>This is second Heading</h2>\n",
    "<h3>This is third Heading</h3>\n",
    "<h4>This is forth Heading</h4>\n",
    "<h5>This is fifth Heading</h5>\n",
    "<h6>This is sixth Heading</h6>\n",
    "<p>This is a paragraph.</p>\n",
    "\n",
    "42201-1254865-5\n",
    "42301-8642358-3\n",
    "42501-5486235-1\n",
    "\n",
    "zinda bad\n",
    "\"\"\"\n",
    "\n",
    "data = re.findall(\"[0-9]{5}-[0-9]{7}-[0-9]{1}\", text)\n",
    "data"
   ]
  },
  {
   "cell_type": "code",
   "execution_count": 47,
   "id": "4b56d689-25cc-461a-80dc-cdfa19b3dc6f",
   "metadata": {},
   "outputs": [
    {
     "data": {
      "text/plain": [
       "['42201-1254865-5', '42301-8642358-3', '42501-5486235-1']"
      ]
     },
     "execution_count": 47,
     "metadata": {},
     "output_type": "execute_result"
    }
   ],
   "source": [
    "text = \"\"\"\n",
    "\n",
    " Pakistan\n",
    " \n",
    "<h1>This is a Heading</h1>\n",
    "<h2>This is second Heading</h2>\n",
    "<h3>This is third Heading</h3>\n",
    "<h4>This is forth Heading</h4>\n",
    "<h5>This is fifth Heading</h5>\n",
    "<h6>This is sixth Heading</h6>\n",
    "<p>This is a paragraph.</p>\n",
    "\n",
    "42201-1254865-5\n",
    "42301-8642358-3\n",
    "42501-5486235-1\n",
    "\n",
    "zinda bad\n",
    "\"\"\"\n",
    "\n",
    "data = re.findall(\"\\d{5}-\\d{7}-\\d{1}\", text)     #\\d means number here\n",
    "data"
   ]
  },
  {
   "cell_type": "code",
   "execution_count": 48,
   "id": "679f2517-0a72-443f-b68d-bfee0e801dcb",
   "metadata": {},
   "outputs": [
    {
     "data": {
      "text/plain": [
       "[('42201', '1254865', '5'),\n",
       " ('42301', '8642358', '3'),\n",
       " ('42501', '5486235', '1')]"
      ]
     },
     "execution_count": 48,
     "metadata": {},
     "output_type": "execute_result"
    }
   ],
   "source": [
    "text = \"\"\"\n",
    "\n",
    " Pakistan\n",
    " \n",
    "<h1>This is a Heading</h1>\n",
    "<h2>This is second Heading</h2>\n",
    "<h3>This is third Heading</h3>\n",
    "<h4>This is forth Heading</h4>\n",
    "<h5>This is fifth Heading</h5>\n",
    "<h6>This is sixth Heading</h6>\n",
    "<p>This is a paragraph.</p>\n",
    "\n",
    "42201-1254865-5\n",
    "42301-8642358-3\n",
    "42501-5486235-1\n",
    "\n",
    "zinda bad\n",
    "\"\"\"\n",
    "\n",
    "data = re.findall(\"(\\d{5})-(\\d{7})-(\\d{1})\", text)     #\\d means number here\n",
    "data"
   ]
  },
  {
   "cell_type": "code",
   "execution_count": 51,
   "id": "ef5fbdec-6483-4102-84a8-18a6a6d46bbb",
   "metadata": {},
   "outputs": [
    {
     "data": {
      "text/plain": [
       "[('42201', '5'), ('42301', '3'), ('42501', '1')]"
      ]
     },
     "execution_count": 51,
     "metadata": {},
     "output_type": "execute_result"
    }
   ],
   "source": [
    "text = \"\"\"\n",
    "\n",
    " Pakistan\n",
    " \n",
    "<h1>This is a Heading</h1>\n",
    "<h2>This is second Heading</h2>\n",
    "<h3>This is third Heading</h3>\n",
    "<h4>This is forth Heading</h4>\n",
    "<h5>This is fifth Heading</h5>\n",
    "<h6>This is sixth Heading</h6>\n",
    "<p>This is a paragraph.</p>\n",
    "\n",
    "42201-1254865-5\n",
    "42301-8642358-3\n",
    "42501-5486235-1\n",
    "\n",
    "zinda bad\n",
    "\"\"\"\n",
    "\n",
    "data = re.findall(\"(\\d{5})-\\d{7}-(\\d{1})\", text)     #\\d means number here\n",
    "data"
   ]
  },
  {
   "cell_type": "code",
   "execution_count": 53,
   "id": "843cfc7f-f602-47f1-b70f-17a6a65d8200",
   "metadata": {},
   "outputs": [
    {
     "data": {
      "text/plain": [
       "['42201-1254865-5', '42301-8642358-3', '4250123-5486235-1']"
      ]
     },
     "execution_count": 53,
     "metadata": {},
     "output_type": "execute_result"
    }
   ],
   "source": [
    "text = \"\"\"\n",
    "\n",
    " Pakistan\n",
    " \n",
    "<h1>This is a Heading</h1>\n",
    "<h2>This is second Heading</h2>\n",
    "<h3>This is third Heading</h3>\n",
    "<h4>This is forth Heading</h4>\n",
    "<h5>This is fifth Heading</h5>\n",
    "<h6>This is sixth Heading</h6>\n",
    "<p>This is a paragraph.</p>\n",
    "\n",
    "42201-1254865-5\n",
    "42301-8642358-3\n",
    "4250123-5486235-1\n",
    "\n",
    "zinda bad\n",
    "\"\"\"\n",
    "\n",
    "data = re.findall(\"\\d{5,}-\\d{7}-\\d{1}\", text)     #\\d means number here\n",
    "data"
   ]
  },
  {
   "cell_type": "code",
   "execution_count": null,
   "id": "15aec38d-3b2d-4f18-b7cf-663d9e97bb16",
   "metadata": {},
   "outputs": [],
   "source": []
  }
 ],
 "metadata": {
  "kernelspec": {
   "display_name": "Python 3 (ipykernel)",
   "language": "python",
   "name": "python3"
  },
  "language_info": {
   "codemirror_mode": {
    "name": "ipython",
    "version": 3
   },
   "file_extension": ".py",
   "mimetype": "text/x-python",
   "name": "python",
   "nbconvert_exporter": "python",
   "pygments_lexer": "ipython3",
   "version": "3.11.7"
  }
 },
 "nbformat": 4,
 "nbformat_minor": 5
}
