{
 "cells": [
  {
   "cell_type": "markdown",
   "metadata": {
    "id": "BUog7wz_iWpD"
   },
   "source": [
    "Dated : Sep 2024 <br>\n",
    "**Final Exam: Data Visualization**\n",
    "\n",
    "*Instructions:*\n",
    "\n",
    "- Complete the following tasks using Jupyter Notebook.\n",
    "- Use the provided datasets or download them from the given sources.\n",
    "- Show all your code and output for each question.\n",
    "- Ensure that your visualizations are well-labeled and include titles, axis labels, and legends where appropriate.\n",
    "\n",
    "---\n",
    "\n",
    "**Datasets:**\n",
    "\n",
    "1. **Titanic Dataset:** Available in Seaborn's built-in datasets.\n",
    "   - Load using: `titanic = sns.load_dataset('titanic')`\n",
    "\n",
    "2. **Diabetes Dataset:** Available from Kaggle.\n",
    "   - Download from: [Diabetes Dataset on Kaggle](https://www.kaggle.com/datasets/mathchi/diabetes-data-set)\n",
    "\n",
    "---\n",
    "\n",
    "### **Question 1: Data Loading and Inspection (Titanic Dataset)**\n",
    "\n",
    "a) Load the Titanic dataset using Seaborn's `load_dataset` function.\n",
    "\n",
    "b) Display the first 10 rows of the dataset.\n",
    "\n",
    "c) Provide a summary of the dataset's information, including data types and missing values.\n",
    "\n"
   ]
  },
  {
   "cell_type": "code",
   "execution_count": null,
   "metadata": {
    "id": "KLDMU_edip3T"
   },
   "outputs": [],
   "source": []
  },
  {
   "cell_type": "markdown",
   "metadata": {
    "id": "L_K_BJ_Siqha"
   },
   "source": [
    "\n",
    "### **Question 2: Statistical Summary**\n",
    "\n",
    "a) Using the Titanic dataset, display the statistical summary (mean, median, quartiles, etc.) of all numerical columns.\n",
    "\n",
    "b) Interpret the mean age of the passengers.\n",
    "\n"
   ]
  },
  {
   "cell_type": "code",
   "execution_count": null,
   "metadata": {
    "id": "ZUM0Vk5diwdp"
   },
   "outputs": [],
   "source": []
  },
  {
   "cell_type": "markdown",
   "metadata": {
    "id": "yC2hLDHBiw8J"
   },
   "source": [
    "\n",
    "### **Question 3: Handling Missing Data**\n",
    "\n",
    "a) Identify the columns in the Titanic dataset that have missing values.\n",
    "\n",
    "b) Choose an appropriate method to handle missing values in the `age` column and apply it.\n",
    "\n",
    "c) Justify your choice of method.\n"
   ]
  },
  {
   "cell_type": "code",
   "execution_count": null,
   "metadata": {
    "id": "yi_A3VPAi0Rb"
   },
   "outputs": [],
   "source": []
  },
  {
   "cell_type": "markdown",
   "metadata": {
    "id": "v1IwAptbi01H"
   },
   "source": [
    "\n",
    "\n",
    "### **Question 4: Data Visualization - Univariate Analysis**\n",
    "\n",
    "a) Plot a histogram of the `age` distribution of the Titanic passengers.\n",
    "\n",
    "b) What does the distribution tell you about the age of the passengers?\n"
   ]
  },
  {
   "cell_type": "code",
   "execution_count": null,
   "metadata": {
    "id": "pqrlztDHi3Ur"
   },
   "outputs": [],
   "source": []
  },
  {
   "cell_type": "markdown",
   "metadata": {
    "id": "VQtxMG9ni35V"
   },
   "source": [
    "\n",
    "### **Question 5: Categorical Data Analysis**\n",
    "\n",
    "a) Using the Titanic dataset, create a count plot of the `class` variable.\n",
    "\n",
    "b) Which passenger class was the most common?\n"
   ]
  },
  {
   "cell_type": "code",
   "execution_count": null,
   "metadata": {
    "id": "QSF3dp9di6Lv"
   },
   "outputs": [],
   "source": []
  },
  {
   "cell_type": "markdown",
   "metadata": {
    "id": "0-kmCq0ti6n7"
   },
   "source": [
    "\n",
    "### **Question 6: Bivariate Analysis**\n",
    "\n",
    "a) Create a scatter plot showing the relationship between `age` and `fare`.\n",
    "\n",
    "b) Does there appear to be any correlation between age and fare?\n",
    "\n"
   ]
  },
  {
   "cell_type": "code",
   "execution_count": null,
   "metadata": {
    "id": "Y7L2scKii9QF"
   },
   "outputs": [],
   "source": []
  },
  {
   "cell_type": "markdown",
   "metadata": {
    "id": "eDo63Vqai99K"
   },
   "source": [
    "\n",
    "### **Question 7: Faceted Plots**\n",
    "\n",
    "a) Use Seaborn's `FacetGrid` to create separate histograms of `age` for each passenger `class`.\n",
    "\n",
    "b) Describe any noticeable differences between the classes.\n",
    "\n"
   ]
  },
  {
   "cell_type": "code",
   "execution_count": null,
   "metadata": {
    "id": "jdLq5g_2jAwU"
   },
   "outputs": [],
   "source": []
  },
  {
   "cell_type": "markdown",
   "metadata": {
    "id": "ZAkz1X6kjBIi"
   },
   "source": [
    "\n",
    "### **Question 8: Survival Analysis**\n",
    "\n",
    "a) Create a bar plot showing the number of survivors (`survived`) by passenger `class`.\n",
    "\n",
    "b) What conclusions can you draw about survival rates across classes?\n"
   ]
  },
  {
   "cell_type": "code",
   "execution_count": null,
   "metadata": {
    "id": "YOQVMiwOjEPQ"
   },
   "outputs": [],
   "source": []
  },
  {
   "cell_type": "markdown",
   "metadata": {
    "id": "N4X_PDRnjEqg"
   },
   "source": [
    "\n",
    "### **Question 9: Correlation Heatmap**\n",
    "\n",
    "a) Compute the correlation matrix for the numerical variables in the Titanic dataset.\n",
    "\n",
    "b) Plot a heatmap of the correlation matrix using Seaborn.\n",
    "\n",
    "c) Identify any strong correlations and discuss them.\n",
    "\n"
   ]
  },
  {
   "cell_type": "code",
   "execution_count": null,
   "metadata": {
    "id": "gmFXGnz2jHnJ"
   },
   "outputs": [],
   "source": []
  },
  {
   "cell_type": "markdown",
   "metadata": {
    "id": "h38gbq0QjIEH"
   },
   "source": [
    "\n",
    "### **Question 10: Time Series Data (If Applicable)**\n",
    "\n",
    "*Note: Since the Titanic dataset does not include time series data, use the following synthetic data for this question.*\n",
    "\n",
    "a) Create a Pandas DataFrame containing the number of passengers boarded each day for a month (generate random data).\n",
    "\n",
    "b) Plot a line chart showing the trend over the month.\n"
   ]
  },
  {
   "cell_type": "code",
   "execution_count": null,
   "metadata": {
    "id": "vhzKwnyZjKse"
   },
   "outputs": [],
   "source": []
  },
  {
   "cell_type": "markdown",
   "metadata": {
    "id": "66OjD4DojLHj"
   },
   "source": [
    "\n",
    "### **Question 11: Data Loading and Inspection (Diabetes Dataset)**\n",
    "\n",
    "a) Load the Diabetes dataset from the provided Kaggle link.\n",
    "\n",
    "b) Display the last 5 rows of the dataset.\n",
    "\n",
    "c) Check for missing values and report your findings.\n"
   ]
  },
  {
   "cell_type": "code",
   "execution_count": null,
   "metadata": {
    "id": "2x_-LVr9jNJl"
   },
   "outputs": [],
   "source": []
  },
  {
   "cell_type": "markdown",
   "metadata": {
    "id": "VYoRUG8njNnk"
   },
   "source": [
    "\n",
    "### **Question 12: Pair Plot**\n",
    "\n",
    "a) Using the Diabetes dataset, create a pair plot of all numerical variables.\n",
    "\n",
    "b) Highlight any interesting relationships you observe.\n"
   ]
  },
  {
   "cell_type": "code",
   "execution_count": null,
   "metadata": {
    "id": "0BMsQ-JXjQLo"
   },
   "outputs": [],
   "source": []
  },
  {
   "cell_type": "markdown",
   "metadata": {
    "id": "edLnbhT-jQom"
   },
   "source": [
    "\n",
    "### **Question 13: Distribution Plots**\n",
    "\n",
    "a) Plot the distribution of the `Glucose` variable using a KDE plot.\n",
    "\n",
    "b) Does the `Glucose` level appear to follow a normal distribution?\n",
    "\n"
   ]
  },
  {
   "cell_type": "code",
   "execution_count": null,
   "metadata": {
    "id": "5CHHHCxOjScJ"
   },
   "outputs": [],
   "source": []
  },
  {
   "cell_type": "markdown",
   "metadata": {
    "id": "-VlrTsYNjS6j"
   },
   "source": [
    "\n",
    "### **Question 14: Box Plots**\n",
    "\n",
    "a) Create a box plot comparing the `BMI` of diabetic and non-diabetic patients.\n",
    "\n",
    "b) What does the box plot tell you about the BMI in relation to diabetes?\n"
   ]
  },
  {
   "cell_type": "code",
   "execution_count": null,
   "metadata": {
    "id": "wQ1JP8s6jU2O"
   },
   "outputs": [],
   "source": []
  },
  {
   "cell_type": "markdown",
   "metadata": {
    "id": "c30q397vjVPq"
   },
   "source": [
    "\n",
    "### **Question 15: Data Transformation**\n",
    "\n",
    "a) Apply a log transformation to the `Insulin` variable to reduce skewness.\n",
    "\n",
    "b) Plot the histogram before and after the transformation.\n",
    "\n"
   ]
  },
  {
   "cell_type": "code",
   "execution_count": null,
   "metadata": {
    "id": "l6qfWmlKjW8m"
   },
   "outputs": [],
   "source": []
  },
  {
   "cell_type": "markdown",
   "metadata": {
    "id": "j_M2rmiyjXQw"
   },
   "source": [
    "\n",
    "### **Question 16: Grouped Bar Charts**\n",
    "\n",
    "a) Group the Diabetes dataset by `Outcome` and calculate the average `Age` and `Glucose`.\n",
    "\n",
    "b) Plot a grouped bar chart showing these averages.\n"
   ]
  },
  {
   "cell_type": "code",
   "execution_count": null,
   "metadata": {
    "id": "0i4Ihv8fjZX7"
   },
   "outputs": [],
   "source": []
  },
  {
   "cell_type": "markdown",
   "metadata": {
    "id": "EbMIJFogjZ13"
   },
   "source": [
    "\n",
    "### **Question 17: Customizing Plots**\n",
    "\n",
    "a) Create a scatter plot of `BloodPressure` vs. `Age`.\n",
    "\n",
    "b) Customize the plot by adding a title, axis labels, and changing the marker style.\n"
   ]
  },
  {
   "cell_type": "code",
   "execution_count": null,
   "metadata": {
    "id": "_8LuVFYJjbq2"
   },
   "outputs": [],
   "source": []
  },
  {
   "cell_type": "markdown",
   "metadata": {
    "id": "iFjBVFcwjcQi"
   },
   "source": [
    "\n",
    "### **Question 18: Subplots**\n",
    "\n",
    "a) Create subplots of histograms for `BMI`, `Age`, and `Glucose` in a single figure.\n",
    "\n",
    "b) Ensure that the subplots are well-arranged and labeled.\n",
    "\n"
   ]
  },
  {
   "cell_type": "code",
   "execution_count": null,
   "metadata": {
    "id": "-x6mThayjeGC"
   },
   "outputs": [],
   "source": []
  },
  {
   "cell_type": "markdown",
   "metadata": {
    "id": "xx1acVqKjeck"
   },
   "source": [
    "\n",
    "\n",
    "### **Question 19: Saving and Exporting Plots**\n",
    "\n",
    "a) Save one of your plots from Question 18 as a PNG file.\n",
    "\n",
    "b) Show the code used to save the plot.\n",
    "\n"
   ]
  },
  {
   "cell_type": "code",
   "execution_count": null,
   "metadata": {
    "id": "-zTyPZqfjhFF"
   },
   "outputs": [],
   "source": []
  },
  {
   "cell_type": "markdown",
   "metadata": {
    "id": "Pwa4Hx8Wjhih"
   },
   "source": [
    "\n",
    "\n",
    "### **Question 20: Final Analysis Report**\n",
    "\n",
    "a) Write a brief report summarizing your key findings from the analyses above.\n",
    "\n",
    "b) Include at least three visualizations to support your conclusions.\n",
    "\n",
    "\n",
    "\n",
    "\n",
    "\n"
   ]
  },
  {
   "cell_type": "code",
   "execution_count": null,
   "metadata": {
    "id": "dkJoB-zzjh_z"
   },
   "outputs": [],
   "source": []
  }
 ],
 "metadata": {
  "colab": {
   "provenance": []
  },
  "kernelspec": {
   "display_name": "Python 3 (ipykernel)",
   "language": "python",
   "name": "python3"
  },
  "language_info": {
   "codemirror_mode": {
    "name": "ipython",
    "version": 3
   },
   "file_extension": ".py",
   "mimetype": "text/x-python",
   "name": "python",
   "nbconvert_exporter": "python",
   "pygments_lexer": "ipython3",
   "version": "3.11.7"
  }
 },
 "nbformat": 4,
 "nbformat_minor": 4
}
